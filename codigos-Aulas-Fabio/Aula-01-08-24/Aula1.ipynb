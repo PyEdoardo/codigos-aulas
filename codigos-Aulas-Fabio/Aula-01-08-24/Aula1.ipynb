{
 "cells": [
  {
   "cell_type": "code",
   "execution_count": null,
   "metadata": {
    "vscode": {
     "languageId": "plaintext"
    }
   },
   "outputs": [],
   "source": [
    "# [BD] é uma coleção de dados relacionados.\n",
    "\n",
    "** Por dados, entende-se fatos conhecidos que podem ser armazenados e têm um significado implícito. **\n",
    "\n",
    "** A Definição de um banco de dados envolve especificar os tipos de dados, estruturas e restrições nos dados a serem armazenados.**\n",
    "\n",
    "** A Definição dos dados e sua informação descritiva é também armazenada no SGBD na forma de um catálogo do banco de dados, chamado meta-dados.**\n",
    "\n",
    "## Propriedades implícitas de um BD\n",
    "\n",
    "° Representa algum aspecto do mundo real;\n",
    "\n",
    "° É uma coleção de dados logicamente coerente;\n",
    "\n",
    "° É projetado, constrúido e populado para um propósito específico.\n",
    "\n",
    "## Um sistema de gerenciamento de dados (SGBD) é um sistema computadorizado que permite ao usuário criar e manter um banco de dados.\n",
    "\n",
    "## A manipulação do banco de dados inclui funções como consultar, atualizar e gerar relatórios sobre o banco de dados.\n",
    "\n",
    "## O compartilhamento de um banco de dados permite que múltiplos usuários e programas acessem o banco dados.\n",
    "\n",
    "## Um programa de aplicação acessa o banco de dados enviando consultas ou requisições de dados ao SGBD.\n",
    "\n",
    "##\n"
   ]
  }
 ],
 "metadata": {
  "language_info": {
   "name": "python"
  },
  "orig_nbformat": 4
 },
 "nbformat": 4,
 "nbformat_minor": 2
}
