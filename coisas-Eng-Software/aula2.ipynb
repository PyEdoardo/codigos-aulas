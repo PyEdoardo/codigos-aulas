{
 "cells": [
  {
   "cell_type": "markdown",
   "metadata": {},
   "source": [
    "# Aula 02\n",
    "- Paradigmas da Engenharia de Software."
   ]
  },
  {
   "cell_type": "markdown",
   "metadata": {},
   "source": [
    "# Oque é um Paraigma?\n",
    "\n",
    "- Um paradigma poe er um estilo de programação, um modelo, uma metodologia, porém não e trata de uma linguagem de programação."
   ]
  },
  {
   "cell_type": "markdown",
   "metadata": {},
   "source": [
    "## Projeto do Balanço:\n",
    "\n",
    "- Pontos Importantes:\n",
    "\n",
    "\n",
    "+ Cada Figura do conjunto demonstra um determinao processo ou fase do desenvolvimento de software.\n",
    "\n",
    "+ Consegue demonstrar, de forma abstrata, o que pode ocorrer num projeto de desenvolvimento de software.\n",
    "\n",
    "- Tornou-se foamoso pela sátira ao pronto de software entregue para o cliente e também não o documentar."
   ]
  },
  {
   "cell_type": "markdown",
   "metadata": {},
   "source": [
    "### Paradigmas da Engenharia de Software:\n",
    "\n",
    "+ Existem diversos paradigmas de Softwares para auxiliar no desenvolvimento e projetos de software, vamos estudar 4 deles:\n",
    "    - ¹ Modelo Clássico (Cascata)\n",
    "    - ² Modelo de Protótipação\n",
    "    - ³ Modelo Espiral\n",
    "    - ⁴ Modelo Iterativo e Incremental"
   ]
  },
  {
   "cell_type": "markdown",
   "metadata": {},
   "source": [
    "# Modelo Clássico:\n",
    "\n",
    "é separado em diversas fases desde os requisitos até a manutenção\n",
    "\n",
    "- **Requisitos**:\n",
    "\n",
    "Na primeira etapa é feito o levantamento de requisitos com o cliente, para definir funcionalidades essenciais do sistema.\n",
    "Após essa etapa ser instaurada em projetos, é preciso que os requisitos sejam colocados em prática de uma forma adequada, garantindo a sua utilidade na próxima fase.\n",
    "\n",
    "- **Projeto**:\n",
    "\n",
    "É a etapa que se engloba 4 atributos distintos do próprio sistema, sendo eles: Estrutura de dados, Arquitetura do Software, Detalhes de progressão e Caracterização das Interfaces;\n",
    "\n",
    "\n",
    "Em resumo, o projeto de software estabelece a arquitetura e cria documentação que orienta diretamente os desenvolvedores no processo de codificação.\n",
    "\n",
    "- **Testes**: \n",
    "\n",
    "Tão logo finalizada a fase de implementação, inicia-se os testes. O processo de testes concentra-se nos aspectos lógicos internos do software, garantindo que todas as rotinas tenham sido testadas. Concentra-se também nos aspectos funcionais externos, verificando se as entradas externas produzem resultados reais que reflitam o exigido.\n",
    "\n",
    "- **Implantação**:\n",
    "\n",
    "Nesta etapa, o software é implantado no ambiente final.\n",
    "\n",
    "O software é instalado e é realizado um acompanhamento para garantir que ele esteja funcionando conforme o esperado. A implantação envolve atividades como instalação, configuração e treinamento de usuários.\n",
    "\n"
   ]
  }
 ],
 "metadata": {
  "language_info": {
   "name": "python"
  },
  "orig_nbformat": 4
 },
 "nbformat": 4,
 "nbformat_minor": 2
}
