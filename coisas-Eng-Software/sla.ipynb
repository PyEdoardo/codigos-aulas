{
 "cells": [
  {
   "cell_type": "markdown",
   "metadata": {},
   "source": [
    "# Engenharia de Software Dia 21/02/2024\n",
    "\n",
    "## - Softwares, auxiliam na eliminação de erros humanos elevam a eficácia e a produtividade de vários processos\n",
    "Estudar a engenharia de software vai te capacitar para a utilização de teorias técnicas e ferramentas mais utilizadas para produção e desenvolvimento dos softwares.\n",
    "\n",
    "### Resumo dos conceitos da disciplina:\n",
    "\n",
    "- Introdução á engenharia de software. Paradigmas da Engenharia de Software.\n",
    "\n",
    "- Análise de Sfoware e de REquisitos. Projeto de Software. Testes de Software.\n",
    "\n",
    "- Manutenção de Software. Gerência de Configuração e Mudança;\n",
    "\n",
    "- Processos / Frameworks de Desenolviment de Software (XP, FDD, Scrum, Kanban)"
   ]
  },
  {
   "cell_type": "markdown",
   "metadata": {},
   "source": [
    "### Vamos por Partes\n",
    "\n",
    "#### Engenharia:\n",
    "\n",
    "- A ciência, a arte e a profissão de adquirir e de aplicar os conhecimento matemáticos, técnicos e científicos na criação, aperfeiçoamento e implementação de utilidades\n",
    "\n"
   ]
  }
 ],
 "metadata": {
  "kernelspec": {
   "display_name": "Python 3",
   "language": "python",
   "name": "python3"
  },
  "language_info": {
   "codemirror_mode": {
    "name": "ipython",
    "version": 3
   },
   "file_extension": ".py",
   "mimetype": "text/x-python",
   "name": "python",
   "nbconvert_exporter": "python",
   "pygments_lexer": "ipython3",
   "version": "3.11.1"
  },
  "orig_nbformat": 4
 },
 "nbformat": 4,
 "nbformat_minor": 2
}
