{
 "cells": [
  {
   "cell_type": "code",
   "execution_count": 1,
   "metadata": {},
   "outputs": [
    {
     "name": "stdout",
     "output_type": "stream",
     "text": [
      "Circuit:\n",
      "     ┌───┐          ┌─┐   \n",
      "q_0: ┤ H ├──■───────┤M├───\n",
      "     └───┘┌─┴─┐┌───┐└╥┘┌─┐\n",
      "q_1: ─────┤ X ├┤ X ├─╫─┤M├\n",
      "          └───┘└───┘ ║ └╥┘\n",
      "c: 2/════════════════╩══╩═\n",
      "                     0  1 \n",
      "Result:\n",
      "{'01': 501, '10': 523}\n"
     ]
    },
    {
     "name": "stderr",
     "output_type": "stream",
     "text": [
      "C:\\Users\\edoar\\AppData\\Local\\Temp\\ipykernel_24964\\2436082500.py:31: DeprecationWarning: Using a qobj for run() is deprecated as of qiskit-aer 0.14 and will be removed no sooner than 3 months from that release date. Transpiled circuits should now be passed directly using `backend.run(circuits, **run_options).\n",
      "  result = simulator.run(qobj).result()\n",
      "C:\\Users\\edoar\\AppData\\Local\\Temp\\ipykernel_24964\\2436082500.py:39: UserWarning: FigureCanvasAgg is non-interactive, and thus cannot be shown\n",
      "  plot_histogram(counts).show()\n"
     ]
    }
   ],
   "source": [
    "# Importar os módulos necessários do Qiskit\n",
    "from qiskit import QuantumCircuit, transpile, assemble\n",
    "from qiskit_aer import Aer\n",
    "from qiskit.visualization import plot_histogram\n",
    "\n",
    "# Criar um circuito quântico com dois qubits e dois bits clássicos\n",
    "circuit = QuantumCircuit(2, 2)\n",
    "\n",
    "# Aplicar uma porta Hadamard ao primeiro qubit\n",
    "circuit.h(0)\n",
    "\n",
    "# Aplicar uma porta CNOT com o primeiro qubit como controle e o segundo como alvo\n",
    "circuit.cx(0, 1)\n",
    "\n",
    "# Aplicar uma porta X (NOT) ao segundo qubit\n",
    "circuit.x(1)\n",
    "\n",
    "# Medir ambos os qubits\n",
    "circuit.measure([0, 1], [0, 1])\n",
    "\n",
    "# Visualizar o circuito\n",
    "print(\"Circuit:\")\n",
    "print(circuit.draw())\n",
    "\n",
    "# Escolher o simulador Aer qasm_simulator\n",
    "simulator = Aer.get_backend('qasm_simulator')\n",
    "\n",
    "# Compilar e executar o circuito no simulador\n",
    "compiled_circuit = transpile(circuit, simulator)\n",
    "qobj = assemble(compiled_circuit)\n",
    "result = simulator.run(qobj).result()\n",
    "\n",
    "# Obter e imprimir os resultados da execução\n",
    "counts = result.get_counts()\n",
    "print(\"Result:\")\n",
    "print(counts)\n",
    "\n",
    "# Opcional: Visualizar o histograma dos resultados\n",
    "plot_histogram(counts).show()\n"
   ]
  }
 ],
 "metadata": {
  "kernelspec": {
   "display_name": "Python 3",
   "language": "python",
   "name": "python3"
  },
  "language_info": {
   "codemirror_mode": {
    "name": "ipython",
    "version": 3
   },
   "file_extension": ".py",
   "mimetype": "text/x-python",
   "name": "python",
   "nbconvert_exporter": "python",
   "pygments_lexer": "ipython3",
   "version": "3.12.3"
  }
 },
 "nbformat": 4,
 "nbformat_minor": 2
}
