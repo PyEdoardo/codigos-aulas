{
 "cells": [
  {
   "cell_type": "markdown",
   "metadata": {},
   "source": [
    "# Váriaveis \"Mutáveis\" e \"Imutáveis\"\n",
    "\n",
    "- Em Relação a Mutabilidade, Python pode ser classificado em:\n",
    "\n",
    "- **Mutáveis:** os conteúdos podem ser alterados (lists, dicionários, sets, files)\n",
    "\n",
    "- **Imutáveis:** os conteúdos não podem ser alterados (string, booleano, float, inteiro, long, complex, tuple)"
   ]
  },
  {
   "cell_type": "markdown",
   "metadata": {},
   "source": [
    "## Exemplo 1:"
   ]
  },
  {
   "cell_type": "code",
   "execution_count": null,
   "metadata": {},
   "outputs": [],
   "source": [
    "def ordenaLista(lista):\n",
    "    list.sort(lista)\n",
    "    return lista\n",
    "\n",
    "x = [3, 2, 1]\n",
    "\n",
    "print(\"Lista antes da função: \", x)\n",
    "\n",
    "ordenaLista(x)\n",
    "\n",
    "print(\"Lista depois da função: \", x)"
   ]
  },
  {
   "cell_type": "markdown",
   "metadata": {},
   "source": [
    "## Exemplo 2:"
   ]
  },
  {
   "cell_type": "code",
   "execution_count": null,
   "metadata": {},
   "outputs": [],
   "source": [
    "def ordenaListA(lista):\n",
    "    lista.sort()\n",
    "    return lista\n",
    "\n",
    "def alteraValor(num):\n",
    "    x = 10\n",
    "    return x\n",
    "\n",
    "x = 100\n",
    "\n",
    "print(\"X antes da função: \", x)\n",
    "print(\"X depois da função: \", alteraValor(x))"
   ]
  }
 ],
 "metadata": {
  "kernelspec": {
   "display_name": "Python 3",
   "language": "python",
   "name": "python3"
  },
  "language_info": {
   "codemirror_mode": {
    "name": "ipython",
    "version": 3
   },
   "file_extension": ".py",
   "mimetype": "text/x-python",
   "name": "python",
   "nbconvert_exporter": "python",
   "pygments_lexer": "ipython3",
   "version": "3.11.1"
  },
  "orig_nbformat": 4
 },
 "nbformat": 4,
 "nbformat_minor": 2
}
