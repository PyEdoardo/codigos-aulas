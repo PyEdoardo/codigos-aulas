{
 "cells": [
  {
   "cell_type": "markdown",
   "metadata": {},
   "source": [
    "# Atividade 1:\n",
    "\n",
    "- Faça uma função que recebe por parâmetro um valor inteiro e retorne o valor lógico\n",
    "Verdadeiro (True) caso o valor seja positivo e Falso (False) caso contrário."
   ]
  },
  {
   "cell_type": "code",
   "execution_count": null,
   "metadata": {},
   "outputs": [],
   "source": [
    "def numBool(num):\n",
    "    if num >= 0:\n",
    "        return True\n",
    "    else:\n",
    "        return False\n",
    "\n",
    "numero = float(input(\"Digite o Número: \"))\n",
    "\n",
    "print(numBool(numero))"
   ]
  },
  {
   "cell_type": "markdown",
   "metadata": {},
   "source": [
    "# Atividade 2:\n",
    "- Crie uma função que que receba como parâmetro um valor lido do teclado e imprima\n",
    "para o usuário, a mensagem “O valor {N} informado é positivo” ou a mensagem “O\n",
    "valor {N} informado é negativo”."
   ]
  },
  {
   "cell_type": "code",
   "execution_count": null,
   "metadata": {},
   "outputs": [],
   "source": [
    "def numBool(num):\n",
    "    if num >= 0:\n",
    "        return f\"O Valor {num} é Positivo! \"\n",
    "    else:\n",
    "        return f\"O Valor {num} é Negativo! \"\n",
    "\n",
    "numero = float(input(\"Digite o Número: \"))\n",
    "print(numBool(numero))"
   ]
  },
  {
   "cell_type": "markdown",
   "metadata": {},
   "source": [
    "# Atividade 3:\n",
    "- Faça uma função que recebe um valor inteiro e retorna uma mensagem que informa\n",
    "se o valor é par ou ímpar."
   ]
  },
  {
   "cell_type": "code",
   "execution_count": null,
   "metadata": {},
   "outputs": [],
   "source": [
    "def valorImparPar(num):\n",
    "    if num % 2 == 0:\n",
    "        return f'O Número {num} é Par'\n",
    "    else:\n",
    "        return f'O Número {num} é Impar'\n",
    "\n",
    "numero = int(input(\"Digite o Valor Inteiro: \"))\n",
    "\n",
    "print(valorImparPar(numero))"
   ]
  }
 ],
 "metadata": {
  "kernelspec": {
   "display_name": "Python 3",
   "language": "python",
   "name": "python3"
  },
  "language_info": {
   "codemirror_mode": {
    "name": "ipython",
    "version": 3
   },
   "file_extension": ".py",
   "mimetype": "text/x-python",
   "name": "python",
   "nbconvert_exporter": "python",
   "pygments_lexer": "ipython3",
   "version": "3.12.2"
  },
  "orig_nbformat": 4
 },
 "nbformat": 4,
 "nbformat_minor": 2
}
