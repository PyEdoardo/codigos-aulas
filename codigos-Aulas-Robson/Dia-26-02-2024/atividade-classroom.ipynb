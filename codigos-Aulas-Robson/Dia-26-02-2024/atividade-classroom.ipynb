{
 "cells": [
  {
   "cell_type": "markdown",
   "metadata": {},
   "source": [
    "# Atividade 1:\n",
    "\n",
    "- Faça uma função que recebe por parâmetro um valor inteiro e retorne o valor lógico\n",
    "Verdadeiro (True) caso o valor seja positivo e Falso (False) caso contrário."
   ]
  },
  {
   "cell_type": "code",
   "execution_count": null,
   "metadata": {},
   "outputs": [],
   "source": [
    "def numBool(num):\n",
    "    if num >= 0:\n",
    "        return True\n",
    "    else:\n",
    "        return False\n",
    "\n",
    "numero = float(input(\"Digite o Número: \"))\n",
    "\n",
    "print(numBool(numero))"
   ]
  },
  {
   "cell_type": "markdown",
   "metadata": {},
   "source": [
    "# Atividade 2:\n",
    "- Crie uma função que que receba como parâmetro um valor lido do teclado e imprima\n",
    "para o usuário, a mensagem “O valor {N} informado é positivo” ou a mensagem “O\n",
    "valor {N} informado é negativo”."
   ]
  },
  {
   "cell_type": "code",
   "execution_count": 6,
   "metadata": {},
   "outputs": [
    {
     "name": "stdout",
     "output_type": "stream",
     "text": [
      "O Valor -99999.0 é Negativo! \n"
     ]
    }
   ],
   "source": [
    "def numBool(num):\n",
    "    if num >= 0:\n",
    "        return f\"O Valor {num} é Positivo! \"\n",
    "    else:\n",
    "        return f\"O Valor {num} é Negativo! \"\n",
    "\n",
    "numero = float(input(\"Digite o Número: \"))\n",
    "print(numBool(numero))"
   ]
  },
  {
   "cell_type": "markdown",
   "metadata": {},
   "source": [
    "# Atividade 3:\n",
    "- Faça uma função que recebe um valor inteiro e retorna uma mensagem que informa\n",
    "se o valor é par ou ímpar."
   ]
  },
  {
   "cell_type": "code",
   "execution_count": null,
   "metadata": {},
   "outputs": [],
   "source": [
    "def valorImparPar(num):\n",
    "    if num % 2 == 0:\n",
    "        return f'O Número {num} é Par'\n",
    "    else:\n",
    "        return f'O Número {num} é Impar'\n",
    "\n",
    "numero = int(input(\"Digite um Valor Inteiro: \"))\n",
    "\n",
    "print(valorImparPar(numero))"
   ]
  },
  {
   "cell_type": "markdown",
   "metadata": {},
   "source": [
    "# Atividade 4:\n",
    "\n",
    "- Faça uma função que recebe as 3 notas de um aluno por parâmetro e uma letra, que\n",
    "indicará o tipo da média a ser calculada. Caso a letra seja A, a função deve calcular a\n",
    "média aritmética das notas do aluno, se for P, deve ser calculada a média ponderada\n",
    "(pesos: 5, 3 e 2 respectivamente). O cálculo da média deve ser retornado pela função.\n",
    "Na chamada da função, as 3 notas devem ser informadas pelo usuário e as notas\n",
    "podem ser fracionadas (por exemplo, 7.5 ou 8.5)."
   ]
  },
  {
   "cell_type": "code",
   "execution_count": 17,
   "metadata": {},
   "outputs": [
    {
     "name": "stdout",
     "output_type": "stream",
     "text": [
      "\n",
      "Total das Notas: \n",
      "Nota 1: 4.0\n",
      "Nota 2: 5.0\n",
      "Nota 3: 7.0\n",
      "Tipo de Média: A\n",
      "Média: 5.333333333333333\n"
     ]
    }
   ],
   "source": [
    "def mediasAluno(nota1, nota2, nota3, tipoMedia):\n",
    "    if tipoMedia == 'A' or tipoMedia == 'A':\n",
    "        media = (nota1 + nota2 + nota3) / 3\n",
    "    elif tipoMedia == 'P' or tipoMedia == 'p':\n",
    "        media = ((nota1 * 5) + (nota2 * 3) + (nota3 * 2)) / (5 + 3 + 2)\n",
    "    return media\n",
    "\n",
    "tipoAluno = input(\"Deseja Qual Tipo de Média?\\nDigite 'A' para Média Aritmética\\nOu Digite 'P' para Média Ponderada: \")\n",
    "\n",
    "n1 = float(input(\"Qual Foi a 1° Nota?\"))\n",
    "n2 = float(input(\"Qual Foi a 2° Nota?\"))\n",
    "n3 = float(input(\"Qual Foi a 3° Nota?\"))\n",
    "\n",
    "print(f'\\nTotal das Notas: \\nNota 1: {n1}\\nNota 2: {n2}\\nNota 3: {n3}\\nTipo de Média: {tipoAluno}\\nMédia: {mediasAluno(n1, n2, n3, tipoAluno)}')"
   ]
  },
  {
   "cell_type": "markdown",
   "metadata": {},
   "source": [
    "# Atividade 5:\n",
    "\n",
    "- Faça uma função que recebe a idade de uma pessoa em anos, meses e dias (um\n",
    "parâmetro para anos, outro para meses e outro para dias) e retorne essa idade em\n",
    "dias. Considere que um ano tem 360 dias e os meses são de 30 dias."
   ]
  },
  {
   "cell_type": "code",
   "execution_count": null,
   "metadata": {},
   "outputs": [],
   "source": [
    "def idade(anos, meses, dias):\n",
    "    calculo = (anos * 360) + (meses * 30)\n",
    "    totalDias = calculo + dias\n",
    "    return totalDias\n",
    "\n",
    "qtAnos = int(input(\"Digite a Quantidade de Anos: \"))\n",
    "\n",
    "qtMeses = int(input(\"Digite a Quantidade de Meses: \"))\n",
    "\n",
    "qtDias = int(input(\"Digite a Quantidade de Dias: \"))\n",
    "\n",
    "print(f'Quantidade de Dias: {idade(qtAnos, qtMeses, qtDias)}')"
   ]
  },
  {
   "cell_type": "markdown",
   "metadata": {},
   "source": [
    "# Atividade 6:\n",
    "\n",
    "- Faça uma função que recebe 3 valores inteiros por parâmetro e retorna-os ordenados\n",
    "em ordem crescente. Os valores retornados devem estar separados por vírgula (,) e\n",
    "para serem retornados como uma string, cada valor deve ser convertido para uma\n",
    "string com o uso da função str(), que recebe por parâmetro um número e retorna\n",
    "uma string."
   ]
  },
  {
   "cell_type": "code",
   "execution_count": null,
   "metadata": {},
   "outputs": [],
   "source": [
    "def ordenar(numero1, numero2, numero3):\n",
    "    menor = numero1\n",
    "    if numero2 < menor:\n",
    "        menor = numero2\n",
    "    if numero3 < menor:\n",
    "        menor = numero3\n",
    "\n",
    "    maior = numero1\n",
    "    if numero2 > maior:\n",
    "        maior = numero2\n",
    "    if numero3 > maior:\n",
    "        maior = numero3\n",
    "\n",
    "    meio = numero1 + numero2 + numero3 - menor - maior    \n",
    "    return f'{menor}, {meio}, {maior}'\n",
    "\n",
    "num1 = int(input(\"Digite o 1 Inteiro:\\n \"))\n",
    "num2 = int(input(\"Digite o 2 Inteiro:\\n \"))\n",
    "num3 = int(input(\"Digite o 3 Inteiro:\\n \"))\n",
    "\n",
    "print(ordenar(num1, num2, num3))\n",
    "\n"
   ]
  }
 ],
 "metadata": {
  "kernelspec": {
   "display_name": "Python 3",
   "language": "python",
   "name": "python3"
  },
  "language_info": {
   "codemirror_mode": {
    "name": "ipython",
    "version": 3
   },
   "file_extension": ".py",
   "mimetype": "text/x-python",
   "name": "python",
   "nbconvert_exporter": "python",
   "pygments_lexer": "ipython3",
   "version": "3.12.2"
  },
  "orig_nbformat": 4
 },
 "nbformat": 4,
 "nbformat_minor": 2
}
