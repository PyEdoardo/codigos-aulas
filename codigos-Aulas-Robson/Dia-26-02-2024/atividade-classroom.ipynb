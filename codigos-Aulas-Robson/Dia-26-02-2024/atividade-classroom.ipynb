{
 "cells": [
  {
   "cell_type": "markdown",
   "metadata": {},
   "source": [
    "# Atividade 1:\n",
    "\n",
    "- Faça uma função que recebe por parâmetro um valor inteiro e retorne o valor lógico\n",
    "Verdadeiro (True) caso o valor seja positivo e Falso (False) caso contrário."
   ]
  },
  {
   "cell_type": "code",
   "execution_count": null,
   "metadata": {},
   "outputs": [],
   "source": [
    "def numBool(num):\n",
    "    if num >= 0:\n",
    "        return True\n",
    "    else:\n",
    "        return False\n",
    "\n",
    "numero = float(input(\"Digite o Número: \"))\n",
    "\n",
    "print(numBool(numero))"
   ]
  },
  {
   "cell_type": "markdown",
   "metadata": {},
   "source": [
    "# Atividade 2:\n",
    "- Crie uma função que que receba como parâmetro um valor lido do teclado e imprima\n",
    "para o usuário, a mensagem “O valor {N} informado é positivo” ou a mensagem “O\n",
    "valor {N} informado é negativo”."
   ]
  },
  {
   "cell_type": "code",
   "execution_count": null,
   "metadata": {},
   "outputs": [],
   "source": [
    "def numBool(num):\n",
    "    if num >= 0:\n",
    "        return f\"O Valor {num} é Positivo! \"\n",
    "    else:\n",
    "        return f\"O Valor {num} é Negativo! \"\n",
    "\n",
    "numero = float(input(\"Digite o Número: \"))\n",
    "print(numBool(numero))"
   ]
  },
  {
   "cell_type": "markdown",
   "metadata": {},
   "source": [
    "# Atividade 3:\n",
    "- Faça uma função que recebe um valor inteiro e retorna uma mensagem que informa\n",
    "se o valor é par ou ímpar."
   ]
  },
  {
   "cell_type": "code",
   "execution_count": null,
   "metadata": {},
   "outputs": [],
   "source": [
    "def valorImparPar(num):\n",
    "    if num % 2 == 0:\n",
    "        return f'O Número {num} é Par'\n",
    "    else:\n",
    "        return f'O Número {num} é Impar'\n",
    "\n",
    "numero = int(input(\"Digite o Valor Inteiro: \"))\n",
    "\n",
    "print(valorImparPar(numero))"
   ]
  },
  {
   "cell_type": "markdown",
   "metadata": {},
   "source": [
    "# Atividade 4:\n",
    "\n",
    "- Faça uma função que recebe as 3 notas de um aluno por parâmetro e uma letra, que\n",
    "indicará o tipo da média a ser calculada. Caso a letra seja A, a função deve calcular a\n",
    "média aritmética das notas do aluno, se for P, deve ser calculada a média ponderada\n",
    "(pesos: 5, 3 e 2 respectivamente). O cálculo da média deve ser retornado pela função.\n",
    "Na chamada da função, as 3 notas devem ser informadas pelo usuário e as notas\n",
    "podem ser fracionadas (por exemplo, 7.5 ou 8.5)."
   ]
  },
  {
   "cell_type": "code",
   "execution_count": null,
   "metadata": {},
   "outputs": [],
   "source": [
    "def mediasAluno(nota1, nota2, nota3, tipoMedia):\n",
    "    if tipoMedia == 'A' or tipoMedia == 'A':\n",
    "        media = (nota1 + nota2 + nota3) / 3\n",
    "    elif tipoMedia == 'P' or tipoMedia == 'p':\n",
    "        media = ((nota1 * 5) + (nota2 * 3) + (nota3 * 2)) / (5 + 3 + 2)\n",
    "    return media\n",
    "\n",
    "tipoAluno = input(\"Deseja Qual Tipo de Média?\\nDigite 'A' para Média Aritmética\\nOu Digite 'P' para Média Ponderada: \")\n",
    "\n",
    "n1 = float(input(\"Qual Foi a 1° Nota?\"))\n",
    "n2 = float(input(\"Qual Foi a 2° Nota?\"))\n",
    "n3 = float(input(\"Qual Foi a 3° Nota?\"))\n",
    "\n",
    "print(f'\\nTotal das Notas: \\nNota 1: {n1}\\nNota 2: {n2}\\nNota 3: {n3}\\nTipo de Média: {if tipoAluno == 'A' return 'Aritmética' or tipoAluno == 'P' return 'Ponderada'}')"
   ]
  }
 ],
 "metadata": {
  "kernelspec": {
   "display_name": "Python 3",
   "language": "python",
   "name": "python3"
  },
  "language_info": {
   "codemirror_mode": {
    "name": "ipython",
    "version": 3
   },
   "file_extension": ".py",
   "mimetype": "text/x-python",
   "name": "python",
   "nbconvert_exporter": "python",
   "pygments_lexer": "ipython3",
   "version": "3.11.1"
  },
  "orig_nbformat": 4
 },
 "nbformat": 4,
 "nbformat_minor": 2
}
