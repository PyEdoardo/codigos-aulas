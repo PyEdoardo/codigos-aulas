{
 "cells": [
  {
   "cell_type": "markdown",
   "metadata": {},
   "source": [
    "### Aula de Funções:"
   ]
  },
  {
   "cell_type": "markdown",
   "metadata": {},
   "source": [
    "Criar uma Função em Python que recebe dois números como parâmetros e retorna a soma dos dois."
   ]
  },
  {
   "cell_type": "code",
   "execution_count": null,
   "metadata": {},
   "outputs": [],
   "source": [
    "def somaDois(num1, num2):\n",
    "    soma = num1 + num2\n",
    "    return soma\n",
    "num1 = int(input(\"Digite o Primeiro Número: \"))\n",
    "num2 = int(input(\"Digite o Segundo Número: \"))\n",
    "print(f\"Soma: {somaDois(num1, num2)}\")"
   ]
  },
  {
   "cell_type": "markdown",
   "metadata": {},
   "source": [
    "### Desafio 2:\n",
    "\n",
    "Implementar uma função pra realizar o cálculo da MP e MF"
   ]
  },
  {
   "cell_type": "code",
   "execution_count": null,
   "metadata": {},
   "outputs": [],
   "source": [
    "def notaMF(g1, g2):\n",
    "    mp = (g1 + (g2 * 2)) /3\n",
    "    return mp\n",
    "\n",
    "while True:\n",
    "    notaG1 = float(input(\"Digite a Nota de G1: \"))\n",
    "    notaG2 = float(input(\"Digite a Nota de G2: \"))\n",
    "    frequencia = int(input(\"Entre com a frequência: \"))\n",
    "    mf = notaMF(notaG1, notaG2)\n",
    "    if frequencia < 75:\n",
    "        print(\"Você foi Reprovado Direto! \")\n",
    "    elif mf >= 6:\n",
    "        print(\"Você Foi Aprovado! \")\n",
    "    else:\n",
    "        exameFinal = float(input(\"Digite a Nota do Exame Final\"))\n",
    "        notaFinal = notaMF(mf, exameFinal)\n",
    "        if notaFinal >= 6:\n",
    "            print(\"Você foi Aprovado! \")\n",
    "        else:\n",
    "            print(\"Você não foi Aprovado! \")        "
   ]
  },
  {
   "cell_type": "markdown",
   "metadata": {},
   "source": [
    "### Variávei Locais\n",
    "\n",
    "nesse exemplo o a dentro da função f, é apenas um parâmetro ou variável local, aonde ela tem espaço na memória apenas dentro da função, aquele a fora da função é apenas uma variável"
   ]
  },
  {
   "cell_type": "code",
   "execution_count": 9,
   "metadata": {},
   "outputs": [
    {
     "name": "stdout",
     "output_type": "stream",
     "text": [
      "'a' antes da declaração da função 30\n",
      "'a' antes de executar a função 3\n",
      "'a' dentro da função 5\n",
      "5\n",
      "'a depois de executar a função 3\n"
     ]
    }
   ],
   "source": [
    "a = 30\n",
    "\n",
    "print(\"'a' antes da declaração da função\", a)\n",
    "\n",
    "def f():\n",
    "    a = 5\n",
    "    #print(\"'a' dentro da função\", a)\n",
    "    return a\n",
    "\n",
    "a = 3\n",
    "\n",
    "print(\"'a' antes de executar a função\", a)\n",
    "print(f())\n",
    "print(\"'a' depois de executar a função\", a)"
   ]
  }
 ],
 "metadata": {
  "kernelspec": {
   "display_name": "Python 3",
   "language": "python",
   "name": "python3"
  },
  "language_info": {
   "codemirror_mode": {
    "name": "ipython",
    "version": 3
   },
   "file_extension": ".py",
   "mimetype": "text/x-python",
   "name": "python",
   "nbconvert_exporter": "python",
   "pygments_lexer": "ipython3",
   "version": "3.11.1"
  },
  "orig_nbformat": 4
 },
 "nbformat": 4,
 "nbformat_minor": 2
}
