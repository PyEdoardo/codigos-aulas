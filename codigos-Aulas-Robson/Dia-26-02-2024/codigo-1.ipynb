{
 "cells": [
  {
   "cell_type": "markdown",
   "metadata": {},
   "source": [
    "### Aula de Funções:"
   ]
  },
  {
   "cell_type": "markdown",
   "metadata": {},
   "source": [
    "Criar uma Função em Python que recebe dois números como parâmetros e retorna a soma dos dois."
   ]
  },
  {
   "cell_type": "code",
   "execution_count": 6,
   "metadata": {},
   "outputs": [
    {
     "name": "stdout",
     "output_type": "stream",
     "text": [
      "Soma: 6\n"
     ]
    }
   ],
   "source": [
    "def somaDois(num1, num2):\n",
    "    soma = num1 + num2\n",
    "    return soma\n",
    "num1 = int(input(\"Digite o Primeiro Número: \"))\n",
    "num2 = int(input(\"Digite o Segundo Número: \"))\n",
    "print(f\"Soma: {somaDois(num1, num2)}\")"
   ]
  }
 ],
 "metadata": {
  "kernelspec": {
   "display_name": "Python 3",
   "language": "python",
   "name": "python3"
  },
  "language_info": {
   "codemirror_mode": {
    "name": "ipython",
    "version": 3
   },
   "file_extension": ".py",
   "mimetype": "text/x-python",
   "name": "python",
   "nbconvert_exporter": "python",
   "pygments_lexer": "ipython3",
   "version": "3.11.1"
  },
  "orig_nbformat": 4
 },
 "nbformat": 4,
 "nbformat_minor": 2
}
