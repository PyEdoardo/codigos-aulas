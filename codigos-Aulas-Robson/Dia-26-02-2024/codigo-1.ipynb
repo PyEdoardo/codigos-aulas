{
 "cells": [
  {
   "cell_type": "markdown",
   "metadata": {},
   "source": [
    "### Aula de Funções:"
   ]
  },
  {
   "cell_type": "markdown",
   "metadata": {},
   "source": [
    "Criar uma Função em Python que recebe dois números como parâmetros e retorna a soma dos dois."
   ]
  },
  {
   "cell_type": "code",
   "execution_count": null,
   "metadata": {},
   "outputs": [],
   "source": [
    "def somaDois(num1, num2):\n",
    "    soma = num1 + num2\n",
    "    return soma\n",
    "num1 = int(input(\"Digite o Primeiro Número: \"))\n",
    "num2 = int(input(\"Digite o Segundo Número: \"))\n",
    "print(f\"Soma: {somaDois(num1, num2)}\")"
   ]
  },
  {
   "cell_type": "markdown",
   "metadata": {},
   "source": [
    "### Desafio 2:\n",
    "\n",
    "Implementar uma função pra realizar o cálculo da MP e MF"
   ]
  },
  {
   "cell_type": "code",
   "execution_count": null,
   "metadata": {},
   "outputs": [],
   "source": [
    "def notaMF(g1, g2):\n",
    "    mp = (g1 + (g2 * 2)) /3\n",
    "    return mp\n",
    "\n",
    "while True:\n",
    "    notaG1 = float(input(\"Digite a Nota de G1: \"))\n",
    "    notaG2 = float(input(\"Digite a Nota de G2: \"))\n",
    "    frequencia = int(input(\"Entre com a frequência: \"))\n",
    "    mf = notaMF(notaG1, notaG2)\n",
    "    if frequencia < 75:\n",
    "        print(\"Você foi Reprovado Direto! \")\n",
    "    elif mf >= 6:\n",
    "        print(\"Você Foi Aprovado! \")\n",
    "    else:\n",
    "        exameFinal = float(input(\"Digite a Nota do Exame Final\"))\n",
    "        notaFinal = notaMF(mf, exameFinal)\n",
    "        if notaFinal >= 6:\n",
    "            print(\"Você foi Aprovado! \")\n",
    "        else:\n",
    "            print(\"Você não foi Aprovado! \")        "
   ]
  }
 ],
 "metadata": {
  "kernelspec": {
   "display_name": "Python 3",
   "language": "python",
   "name": "python3"
  },
  "language_info": {
   "codemirror_mode": {
    "name": "ipython",
    "version": 3
   },
   "file_extension": ".py",
   "mimetype": "text/x-python",
   "name": "python",
   "nbconvert_exporter": "python",
   "pygments_lexer": "ipython3",
   "version": "3.11.1"
  },
  "orig_nbformat": 4
 },
 "nbformat": 4,
 "nbformat_minor": 2
}
