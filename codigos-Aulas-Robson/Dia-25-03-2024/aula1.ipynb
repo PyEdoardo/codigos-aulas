{
 "cells": [
  {
   "cell_type": "markdown",
   "metadata": {},
   "source": [
    "# **Aula de Tuplas**\n",
    "\n",
    "## **Exemplo 1:**\n",
    "\n",
    "° **Criando Tupla Vazia:**"
   ]
  },
  {
   "cell_type": "code",
   "execution_count": null,
   "metadata": {},
   "outputs": [],
   "source": [
    "tuplaVazia = ()"
   ]
  },
  {
   "cell_type": "markdown",
   "metadata": {},
   "source": [
    "° **Criando Tupla com somente um valor:**"
   ]
  },
  {
   "cell_type": "code",
   "execution_count": null,
   "metadata": {},
   "outputs": [],
   "source": [
    "tupla1 = (1,)\n",
    "tupla2 = (1)"
   ]
  },
  {
   "cell_type": "markdown",
   "metadata": {},
   "source": [
    "° **Tamanho da Tupla: len**"
   ]
  },
  {
   "cell_type": "code",
   "execution_count": null,
   "metadata": {},
   "outputs": [],
   "source": [
    "print (len (tuplaVazia))\n",
    "print (len (tupla1))\n",
    "print (len (tupla2))"
   ]
  },
  {
   "cell_type": "markdown",
   "metadata": {},
   "source": [
    "° **E se quiser manipular o valor da Tupla?**"
   ]
  },
  {
   "cell_type": "code",
   "execution_count": null,
   "metadata": {},
   "outputs": [],
   "source": [
    "dados = (1, 2)\n",
    "dados[1] = 7"
   ]
  },
  {
   "cell_type": "markdown",
   "metadata": {},
   "source": [
    "## **Exemplo 2:**"
   ]
  },
  {
   "cell_type": "markdown",
   "metadata": {},
   "source": [
    "° **Atribuição de Tuplas:**"
   ]
  },
  {
   "cell_type": "code",
   "execution_count": null,
   "metadata": {},
   "outputs": [],
   "source": [
    "pessoa = (\"Fulano\", \"de Tal\", 25)\n",
    "\n",
    "\n",
    "##Atribuição de Tuplas\n",
    "(nome, sobrenome, idade) = pessoa\n",
    "\n",
    "print(nome, sobrenome, idade)"
   ]
  },
  {
   "cell_type": "code",
   "execution_count": null,
   "metadata": {},
   "outputs": [],
   "source": [
    "## Exemplo 3\n",
    "## Inverção de Valores\n",
    "\n",
    "a = 1\n",
    "\n",
    "b = 2\n",
    "\n",
    "temp = a\n",
    "\n",
    "a = b\n",
    "\n",
    "b = temp\n",
    "\n",
    "## Realizando a mesma tarefa com tuplas\n",
    "\n",
    "a = 1\n",
    "\n",
    "b = 2\n",
    "\n",
    "(a, b) = (b, a)\n",
    "\n",
    "print(a, b)\n",
    "\n"
   ]
  },
  {
   "cell_type": "markdown",
   "metadata": {},
   "source": [
    "### **Desafio n°1:**\n",
    "\n",
    "° Faça uma função que receba uma lista de inteiros como parâmetro e retorne o número que mais aparece na lista, seguido da quantidade de vezes que esse número aparece."
   ]
  },
  {
   "cell_type": "code",
   "execution_count": null,
   "metadata": {},
   "outputs": [],
   "source": [
    "def numeroMaisFrequente(numeros):\n",
    "    numeroMaisFrequente = None\n",
    "    maiorFrequencia = 0\n",
    "    for numero in numeros:\n",
    "        frequencia = numeros.count(numero)\n",
    "        if frequencia > maiorFrequencia:\n",
    "            maiorFrequencia = frequencia\n",
    "            numeroMaisFrequente = numero\n",
    "    return (numeroMaisFrequente, maiorFrequencia)        \n",
    "\n",
    "lista = [1, 2, 3, 4, 4, 2, 3, 1, 5, 2]\n",
    "\n",
    "\n",
    "(numeroMaisFrequente, frequencia) = numeroMaisFrequente(lista)\n",
    "\n",
    "print(f\"Número mais frequente: {numeroMaisFrequente}, Frequência: {frequencia} \")\n",
    "\n"
   ]
  },
  {
   "cell_type": "markdown",
   "metadata": {},
   "source": [
    "## **Exemplo 4:**"
   ]
  },
  {
   "cell_type": "markdown",
   "metadata": {},
   "source": [
    "°  As Funções podem receber um número variável de argumentos. Um nome de parâmetro que comece com * reúne vários argumentos em uma tupla."
   ]
  },
  {
   "cell_type": "code",
   "execution_count": 10,
   "metadata": {},
   "outputs": [
    {
     "name": "stdout",
     "output_type": "stream",
     "text": [
      "6\n"
     ]
    }
   ],
   "source": [
    "def somaNumeros(*args):\n",
    "    soma = 0\n",
    "    for numero in args:\n",
    "        soma = soma + numero\n",
    "    return soma\n",
    "\n",
    "print(somaNumeros(1, 2, 3))"
   ]
  },
  {
   "cell_type": "code",
   "execution_count": null,
   "metadata": {},
   "outputs": [],
   "source": [
    "## Exemplo 5:\n",
    "\n",
    "pessoas = {\n",
    "    (\"João\", 20),\n",
    "    (\"Maria\", 25),\n",
    "    (\"James\", 20)\n",
    "}\n",
    "for nome, idade in pessoas:\n",
    "    print(f\"Nome: {nome}, idade: {idade}\")"
   ]
  }
 ],
 "metadata": {
  "kernelspec": {
   "display_name": "Python 3",
   "language": "python",
   "name": "python3"
  },
  "language_info": {
   "codemirror_mode": {
    "name": "ipython",
    "version": 3
   },
   "file_extension": ".py",
   "mimetype": "text/x-python",
   "name": "python",
   "nbconvert_exporter": "python",
   "pygments_lexer": "ipython3",
   "version": "3.11.1"
  },
  "orig_nbformat": 4
 },
 "nbformat": 4,
 "nbformat_minor": 2
}
